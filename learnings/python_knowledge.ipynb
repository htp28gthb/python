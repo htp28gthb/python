{
 "cells": [
  {
   "cell_type": "markdown",
   "metadata": {},
   "source": [
    "## What is Python?\n",
    "\n",
    "[Python](https://en.wikipedia.org/wiki/Python_(programming_language)) is a high-level programming language, and it is released in 1991. [Guido van Rossum](https://en.wikipedia.org/wiki/Guido_van_Rossum \"Guido van Rossum\") is the father of Python.\n",
    "\n",
    "it's a commonly-used modern programming language. String manipulation. Networking."
   ]
  },
  {
   "cell_type": "markdown",
   "metadata": {},
   "source": [
    "## Variables\n",
    "### String\n",
    "You can print a String by using method print()"
   ]
  },
  {
   "cell_type": "code",
   "execution_count": null,
   "metadata": {},
   "outputs": [
    {
     "name": "stdout",
     "output_type": "stream",
     "text": [
      "Hello, World!\n"
     ]
    }
   ],
   "source": [
    "print(\"Hello, World!\")"
   ]
  },
  {
   "cell_type": "markdown",
   "metadata": {},
   "source": [
    "You can assign a String to a variable, and then you can print it"
   ]
  },
  {
   "cell_type": "code",
   "execution_count": null,
   "metadata": {},
   "outputs": [
    {
     "name": "stdout",
     "output_type": "stream",
     "text": [
      "Hello, Peter\n"
     ]
    }
   ],
   "source": [
    "name = \"Peter\"\n",
    "print(f\"Hello, {name}\")"
   ]
  },
  {
   "cell_type": "markdown",
   "metadata": {},
   "source": [
    "You can ask the user to enter a String using input() method, and then you can print it"
   ]
  },
  {
   "cell_type": "code",
   "execution_count": null,
   "metadata": {},
   "outputs": [
    {
     "name": "stdout",
     "output_type": "stream",
     "text": [
      "Hello, Peter! Nice to meet you.\n",
      "Hello, Peter! Have a nice day.\n",
      "Hello, Peter\n",
      "Hello, Peter!\n"
     ]
    }
   ],
   "source": [
    "name = input(\"What's your name? \")\n",
    "print(f\"Hello, {name}! Nice to meet you.\")\n",
    "# Other different ways to print a String\n",
    "print(\"Hello, \" + name + \"! Have a nice day.\")\n",
    "print(\"Hello,\", name)\n",
    "print(\"Hello, {}!\".format(name))"
   ]
  },
  {
   "cell_type": "markdown",
   "metadata": {},
   "source": [
    "There are some methods that you can use with a String."
   ]
  },
  {
   "cell_type": "code",
   "execution_count": null,
   "metadata": {},
   "outputs": [
    {
     "name": "stdout",
     "output_type": "stream",
     "text": [
      "['This', 'IS', 'a', 'sTring']\n",
      "this is a string\n",
      "THIS IS A STRING\n",
      "This is a string\n"
     ]
    }
   ],
   "source": [
    "text = \"This IS a sTring\"\n",
    "print(text.split())\n",
    "print(text.lower())\n",
    "print(text.upper())\n",
    "print(text.capitalize())"
   ]
  },
  {
   "cell_type": "markdown",
   "metadata": {},
   "source": [
    "#### Examples"
   ]
  },
  {
   "cell_type": "code",
   "execution_count": null,
   "metadata": {},
   "outputs": [
    {
     "name": "stdout",
     "output_type": "stream",
     "text": [
      "Agreed\n",
      "After: PHÁT\n",
      "After: LINH\n"
     ]
    }
   ],
   "source": [
    "# Do you agree? project\n",
    "s = input(\"Do you agree?\")\n",
    "s = s.lower()\n",
    "\n",
    "if s in [\"y\", \"yes\"]:\n",
    "    print(\"Agreed\")\n",
    "elif s in [\"n\", \"no\"]:\n",
    "    print(\"Not agreed\")\n",
    "\n",
    "# uppercase project\n",
    "before = input(\"Before: \")\n",
    "print(\"After: \", end=\"\")\n",
    "for c in before:\n",
    "    print(c.upper(), end=\"\")\n",
    "print()\n",
    "# make it shorter\n",
    "before = input(\"Before: \")\n",
    "after = before.upper()\n",
    "print(f\"After: {after}\")"
   ]
  },
  {
   "cell_type": "markdown",
   "metadata": {},
   "source": [
    "## Other Data Types\n",
    "`boolean` (True/False), `float`, `int`.\n",
    "The `array` is replaced by `range`, `list`, `tuple`, `dict` (Dictionary), `set`, etc.\n",
    "\n",
    "### Lists\n",
    "Mutable sets of data"
   ]
  },
  {
   "cell_type": "code",
   "execution_count": null,
   "metadata": {},
   "outputs": [
    {
     "name": "stdout",
     "output_type": "stream",
     "text": [
      "[1, 2, 3, 4]\n",
      "[1, 2, 3, 4]\n"
     ]
    }
   ],
   "source": [
    "empty_nums = [] # An empty List\n",
    "string_nums = [\"one\", \"two\", \"three\", \"four\"] # A List with all string values\n",
    "float_nums = [1.2,2.3,3.4,4.5] # A List with all float values\n",
    "\n",
    "integer_nums = [1, 2, 3, 4]  # A List with all integer values\n",
    "# How to sort a List?\n",
    "sorted(integer_nums)\n",
    "print(integer_nums)\n",
    "integer_nums.sort()\n",
    "print(integer_nums)"
   ]
  },
  {
   "cell_type": "markdown",
   "metadata": {},
   "source": [
    "#### How to add items to a List?"
   ]
  },
  {
   "cell_type": "code",
   "execution_count": null,
   "metadata": {},
   "outputs": [
    {
     "name": "stdout",
     "output_type": "stream",
     "text": [
      "[1, 2, 3, 4, 5]\n",
      "[1, 2, 3, 4, 5, 5]\n",
      "[1, 2, 3, 4, 5, 5]\n",
      "[1, 2, 3, 4, 5, 5, 5, 6]\n"
     ]
    }
   ],
   "source": [
    "integer_nums = [1, 2, 3, 4]  # A List with all integer values\n",
    "integer_nums.append(5)  # This to insert number 5 as the last item to the list integer_nums\n",
    "print(integer_nums)\n",
    "integer_nums.insert(4, 5)  # This to new item to specific index of a list | insert(index, new_item)\n",
    "print(integer_nums)\n",
    "integer_nums[4] = (5)  # This works the same as insert(index, new_item) | variable[index] = new_item\n",
    "print(integer_nums)\n",
    "integer_nums.extend([5, 6])  # This to insert multiple items to a list\n",
    "print(integer_nums)"
   ]
  },
  {
   "cell_type": "markdown",
   "metadata": {},
   "source": [
    "#### How to remove items from a List?"
   ]
  },
  {
   "cell_type": "code",
   "execution_count": null,
   "metadata": {},
   "outputs": [
    {
     "name": "stdout",
     "output_type": "stream",
     "text": [
      "[2, 3.1, 'four', 'five', 6]\n",
      "The List is removed completely\n",
      "[]\n",
      "['one', 2, 3.1, 'four', 'five']\n"
     ]
    }
   ],
   "source": [
    "mixed_nums_one = [\"one\", 2, 3.1, \"four\", \"five\", 6]  # A List with mixed values\n",
    "mixed_nums_one.pop(0)  # Remove the item at index 0 ('one')\n",
    "print(mixed_nums_one)\n",
    "\n",
    "mixed_nums_two = [\"one\", 2, 3.1, \"four\", \"five\", 6]  # A List with mixed values\n",
    "mixed_nums_two.clear()  # This to remove everything in the list\n",
    "print(mixed_nums_two)\n",
    "\n",
    "mixed_nums_three = [\"one\", 2, 3.1, \"four\", \"five\", 6]  # A List with mixed values\n",
    "mixed_nums_three.remove(6)  # Remove the value 6\n",
    "print(mixed_nums_three)"
   ]
  },
  {
   "cell_type": "code",
   "execution_count": null,
   "metadata": {},
   "outputs": [
    {
     "name": "stdout",
     "output_type": "stream",
     "text": [
      "['h', 'e', 'l', 'l', 'o']\n",
      "--------\n",
      "['h', 'e', 'l', 'l', 'o']\n",
      "--------\n",
      "[0, 1, 4, 9, 16, 25, 36, 49, 64, 81, 100]\n",
      "--------\n",
      "[0, 2, 4, 6, 8, 10]\n",
      "--------\n",
      "[32.0, 50.0, 68.0, 94.1]\n"
     ]
    }
   ],
   "source": [
    "# List Comprehensions\n",
    "my_string = \"hello\"\n",
    "my_list = []\n",
    "\n",
    "for letter in my_string:\n",
    "    my_list.append(letter)\n",
    "print(my_list)\n",
    "\n",
    "print(\"-\" * 8)\n",
    "\n",
    "# The above code can be replaced by the following code\n",
    "my_list = [letter for letter in my_string]\n",
    "print(my_list)  # This will print [\"h\",\"e\",\"l\",\"l\",\"o\"] too\n",
    "\n",
    "print(\"-\" * 8)\n",
    "\n",
    "# Another examples of the above code\n",
    "new_list = [num**2 for num in range(0, 11)]\n",
    "print(new_list)  # This will print [0,1,4,9,16,25,36,49,64,81,100]\n",
    "\n",
    "print(\"-\" * 8)\n",
    "\n",
    "# Another examples of the above code with conditions\n",
    "new_new_list = [x for x in range(0, 11) if x % 2 == 0]\n",
    "print(new_new_list)  # This will print [0,2,4,6,8,10]\n",
    "\n",
    "print(\"-\" * 8)\n",
    "\n",
    "# Another examples with complex calculation\n",
    "c = [0, 10, 20, 34.5]\n",
    "f = [((9 / 5) * temp + 32) for temp in c]\n",
    "print(f)  # This will print [32.0,50.0,68.0,94.1]"
   ]
  },
  {
   "cell_type": "code",
   "execution_count": null,
   "metadata": {},
   "outputs": [
    {
     "name": "stdout",
     "output_type": "stream",
     "text": [
      "Below is the list in normal way.\n",
      "[2, 20, 200, 4, 40, 400, 6, 60, 600]\n",
      "--------\n",
      "Below is the list in shorter way.\n",
      "[2, 20, 200, 4, 40, 400, 6, 60, 600]\n"
     ]
    }
   ],
   "source": [
    "# List Comprehension with nested For Loop\n",
    "# Normal way\n",
    "my_list = []\n",
    "for x in [2, 4, 6]:\n",
    "    for y in [1, 10, 100]:\n",
    "        my_list.append(x * y)\n",
    "print(\"Below is the list in normal way.\")\n",
    "print(my_list)  # This will print [2,20,200,4,40,400,6,60,600]\n",
    "\n",
    "print(\"-\"*8)\n",
    "\n",
    "# Shorter way\n",
    "my_list = [x * y for x in [2, 4, 6] for y in [1, 10, 100]]\n",
    "print(\"Below is the list in shorter way.\")\n",
    "print(my_list)  # This will print same results as [2,20,200,4,40,400,6,60,600]"
   ]
  },
  {
   "cell_type": "markdown",
   "metadata": {},
   "source": [
    "### Tuples\n",
    "Immutable sets of data"
   ]
  },
  {
   "cell_type": "code",
   "execution_count": null,
   "metadata": {},
   "outputs": [
    {
     "name": "stdout",
     "output_type": "stream",
     "text": [
      "In 1789, George Washington took office\n",
      "In 1797, John Adams took office\n",
      "In 1801, Thomas Jefferson took office\n",
      "In 1809, James Madison took office\n"
     ]
    }
   ],
   "source": [
    "presidents = [\n",
    "    (\"George Washington\", 1789),\n",
    "    (\"John Adams\", 1797),\n",
    "    (\"Thomas Jefferson\", 1801),\n",
    "    (\"James Madison\", 1809),\n",
    "]\n",
    "\n",
    "for prez, year in presidents:\n",
    "    print(\"In {1}, {0} took office\".format(prez, year))"
   ]
  },
  {
   "cell_type": "markdown",
   "metadata": {},
   "source": [
    "### Sets\n",
    "- Unordered: Sets don't maintain the order in which you add elements.\n",
    "- Unique Elements: Sets cannot contain duplicate elements.\n",
    "- Immutable Elements: The elements within a set must be immutable (e.g., numbers, strings, tuples). You cannot have lists, dictionaries, or other sets as direct elements of a set."
   ]
  },
  {
   "cell_type": "code",
   "execution_count": null,
   "metadata": {},
   "outputs": [],
   "source": [
    "from os import close\n",
    "\n",
    "\n",
    "num = {\"one\", \"two\", \"three\"}\n",
    "num = {1, 2, 3, 4, 4}  # This will return only 1,2,3,4 cause 4 is duplicated\n",
    "\n",
    "# You can convert a List to a Set by using function set()\n",
    "test_list = [1, 2, 3, 2]\n",
    "test_set = set(test_list)  # With this, the duplicated 2 will be removed\n",
    "words = set(\"Mississippi\")  # This gives you a hash table / create a set from String\n",
    "\n",
    "\n",
    "def check(word):\n",
    "    if word.lower() in words:\n",
    "        return True\n",
    "    else:\n",
    "        return False\n",
    "\n",
    "\n",
    "def load(dictionary):\n",
    "    file = open(dictionary, \"r\")\n",
    "    for line in file:\n",
    "        word = line.rstrip()\n",
    "        words.add(word)\n",
    "    close(file)\n",
    "    return True\n",
    "\n",
    "\n",
    "def size():\n",
    "    return len(words)\n",
    "\n",
    "\n",
    "def unload():\n",
    "    return True"
   ]
  },
  {
   "cell_type": "markdown",
   "metadata": {},
   "source": [
    "### Dictionaries"
   ]
  },
  {
   "cell_type": "code",
   "execution_count": null,
   "metadata": {},
   "outputs": [
    {
     "name": "stdout",
     "output_type": "stream",
     "text": [
      "This pizza type is on sale today!\n"
     ]
    }
   ],
   "source": [
    "pizzas = {\n",
    "\t\"cheese\": 9,\n",
    "\t\"pepperoni\": 10,\n",
    "\t\"vegetable\": 11,\n",
    "\t\"buffalo chicken\": 12\n",
    "}\n",
    "\n",
    "pizzas[\"cheese\"] = 8 # This to change the associated value of \"cheese\"\n",
    "pizzas[\"bacon\"] = 14 # This to add \"bacon\" to pizzas dictionary\n",
    "\n",
    "# This to do something when the condition meets\n",
    "if pizzas[\"vegetable\"] < 12:\n",
    "\tprint(\"This pizza type is on sale today!\")"
   ]
  },
  {
   "cell_type": "markdown",
   "metadata": {},
   "source": [
    "## Comparison Operators/Chaining Comparison Operators (Logital Operators)\n",
    "\n",
    "### Comparison Operators\n",
    "|Operators|Description|Examples|\n",
    "|---      |---        |---     |\n",
    "|==       |equal      |2 == 2 / True|\n",
    "|!=       |not equal  |2 != 2 / False|\n",
    "|<        |less than  |2 < 2 / False|\n",
    "|>        |greater than|2 > 1 / True|\n",
    "|<=       |less than or equal|2 <= 2 / True|\n",
    "|>=       |greater than or equal|5 >= 3 / True|\n",
    "\n",
    "### Logical Operators\n",
    "It is used to combine comparisons. 3 values:\n",
    "\n",
    "- **and** `'h' == 'h' and 2 > 3 / False`\n",
    "- **or** `100 == 1 or 1 < 2 / True`\n",
    "- **not** `not 400 > 5000 / True`\n",
    "\n",
    "### Useful Operators"
   ]
  },
  {
   "cell_type": "code",
   "execution_count": null,
   "metadata": {},
   "outputs": [
    {
     "name": "stdout",
     "output_type": "stream",
     "text": [
      "0\n",
      "1\n",
      "2\n",
      "3\n",
      "4\n",
      "5\n",
      "6\n",
      "7\n",
      "8\n",
      "9\n",
      "2\n",
      "3\n",
      "4\n",
      "5\n",
      "6\n",
      "7\n",
      "8\n",
      "9\n",
      "0\n",
      "2\n",
      "4\n",
      "6\n",
      "8\n",
      "10\n",
      "a\n",
      "b\n",
      "c\n",
      "d\n",
      "e\n",
      "f\n",
      "0\n",
      "a\n",
      "------\n",
      "1\n",
      "b\n",
      "------\n",
      "2\n",
      "c\n",
      "------\n",
      "3\n",
      "d\n",
      "------\n",
      "4\n",
      "e\n",
      "------\n",
      "5\n",
      "f\n",
      "------\n",
      "(1, 'one')\n",
      "(2, 'two')\n",
      "(3, 'three')\n"
     ]
    }
   ],
   "source": [
    "# range() function\n",
    "# range(start, stop, step side)\n",
    "my_list = [1, 2, 3]\n",
    "\n",
    "for num in range(10):\n",
    "    print(num)  # It will print from number 0 to 9, not include 10\n",
    "\n",
    "for num in range(2, 10):\n",
    "    print(num)  # It will print from number 2 to 9, not include 10\n",
    "\n",
    "for num in range(0, 11, 2):\n",
    "    print(num)  # It will print 0,2,4,6,8,10. Because we have step side = 2\n",
    "\n",
    "# You can create a list using range for convenience\n",
    "my_new_list = list(range(0, 11, 2))  # This list will be [0,2,4,6,8,10]\n",
    "\n",
    "# enumerate() function\n",
    "words = \"abcdef\"\n",
    "\n",
    "for item in words:\n",
    "    print(item)  # This will return tuples (1, \"a\") (2, \"b\") ...\n",
    "\n",
    "# This will return\n",
    "# 0\n",
    "# a\n",
    "# ------\n",
    "# 1\n",
    "# b\n",
    "# ------\n",
    "for index, letter in enumerate(words):\n",
    "    print(index)\n",
    "    print(letter)\n",
    "    print(\"-\" * 6)\n",
    "\n",
    "# zip() function - to combine list together\n",
    "# You can zip multiple Lists together\n",
    "# zip() ignores extra items on any Lists\n",
    "my_list_1 = [1, 2, 3, 4, 5, 6]\n",
    "my_list_2 = [\"one\", \"two\", \"three\"]\n",
    "\n",
    "for item in zip(my_list_1, my_list_2):\n",
    "    print(item)  # This will return tuples (1, \"one\") (2, \"two\") (3, \"three\")\n",
    "\n",
    "# in operator, min(), max()\n",
    "# random in Python\n",
    "from random import shuffle\n",
    "from random import randint\n",
    "\n",
    "a_list = [1, 2, 3, 4, 5, 6, 7, 8, 9]\n",
    "shuffle(a_list)  # This will change index of the List randomly\n",
    "\n",
    "random_number = randint(0, 99)  # This will return a random number between 0 and 99"
   ]
  },
  {
   "cell_type": "markdown",
   "metadata": {},
   "source": [
    "## Conditionals/Control Flow\n",
    "### If/Else Statement"
   ]
  },
  {
   "cell_type": "code",
   "execution_count": null,
   "metadata": {},
   "outputs": [
    {
     "name": "stdout",
     "output_type": "stream",
     "text": [
      "Hello, nice to meet you!\n"
     ]
    }
   ],
   "source": [
    "name = \"Me\"\n",
    "\n",
    "if name == \"Me\":\n",
    "    print(\"Hello, nice to meet you!\")\n",
    "else:\n",
    "    print(\"I don't know you\")"
   ]
  },
  {
   "cell_type": "markdown",
   "metadata": {},
   "source": [
    "### If/Elif/Else Statement"
   ]
  },
  {
   "cell_type": "code",
   "execution_count": null,
   "metadata": {},
   "outputs": [
    {
     "name": "stdout",
     "output_type": "stream",
     "text": [
      "x is less than y\n"
     ]
    }
   ],
   "source": [
    "x = int(input(\"Enter x number: \"))\n",
    "y = int(input(\"Enter y number: \"))\n",
    "if x < y:\n",
    "    print(\"x is less than y\")\n",
    "elif x > y:\n",
    "    print(\"x is not less than y\")\n",
    "else:\n",
    "    print(\"x is equal to y\")"
   ]
  },
  {
   "cell_type": "markdown",
   "metadata": {},
   "source": [
    "## Loops\n",
    "### While Loops"
   ]
  },
  {
   "cell_type": "code",
   "execution_count": 24,
   "metadata": {},
   "outputs": [
    {
     "name": "stdout",
     "output_type": "stream",
     "text": [
      "The current value of i is 0\n",
      "The current value of i is 1\n",
      "The current value of i is 2\n",
      "I IS NOT LESS THAN 3\n"
     ]
    }
   ],
   "source": [
    "i = 0\n",
    "while i < 3:\n",
    "    print(f\"The current value of i is {i}\")\n",
    "    i += 1\n",
    "else:\n",
    "    print(\"I IS NOT LESS THAN 3\")\n",
    "\n",
    "while x < 5:\n",
    "    if x == 3:\n",
    "        break  # It will stop when x equals to 3\n",
    "    print(x)\n",
    "    x += 1"
   ]
  },
  {
   "cell_type": "markdown",
   "metadata": {},
   "source": [
    "### For Loops"
   ]
  },
  {
   "cell_type": "code",
   "execution_count": 25,
   "metadata": {},
   "outputs": [
    {
     "name": "stdout",
     "output_type": "stream",
     "text": [
      "Hello 1\n",
      "Hello 2\n",
      "Hello 3\n",
      "Hello 4\n",
      "Hello 5\n",
      "Hello 6\n",
      "Hello 7\n",
      "Hello 8\n",
      "Hello 9\n",
      "Hello 10\n",
      "======\n",
      "Odd number: 1\n",
      "Even number: 2\n",
      "Odd number: 3\n",
      "Even number: 4\n",
      "Odd number: 5\n",
      "Even number: 6\n",
      "Odd number: 7\n",
      "Even number: 8\n",
      "Odd number: 9\n",
      "Even number: 10\n",
      "Hello, world 0\n",
      "Hello, world 1\n",
      "Hello, world 2\n",
      "length: 4\n",
      "this is value of a: 1\n",
      "this is value of b: 2\n",
      "======\n",
      "this is value of a: 3\n",
      "this is value of b: 4\n",
      "======\n",
      "this is value of a: 5\n",
      "this is value of b: 6\n",
      "======\n",
      "this is value of a: 7\n",
      "this is value of b: 8\n",
      "======\n",
      "cheese\n",
      "pepperoni\n",
      "vegetable\n",
      "buffalo chicken\n",
      "======\n",
      "$9\n",
      "$10\n",
      "$11\n",
      "$12\n",
      "======\n",
      "cheese $9\n",
      "pepperoni $10\n",
      "vegetable $11\n",
      "buffalo chicken $12\n",
      "======\n",
      "A whole cheese pizza costs $9\n",
      "------\n",
      "A whole pepperoni pizza costs $10\n",
      "------\n",
      "A whole vegetable pizza costs $11\n",
      "------\n",
      "A whole buffalo chicken pizza costs $12\n",
      "------\n",
      "letter\n",
      "letter\n",
      "letter\n",
      "letter\n",
      "one\n",
      "two\n"
     ]
    }
   ],
   "source": [
    "# iterable / going through something\n",
    "# Lists and For loop\n",
    "my_list = [1, 2, 3, 4, 5, 6, 7, 8, 9, 10]\n",
    "\n",
    "for num in my_list:\n",
    "    print(f\"Hello {num}\")\n",
    "print(\"==\" * 3)\n",
    "\n",
    "for num in my_list:\n",
    "    # Check to show even or odd number\n",
    "    if num % 2 == 0:\n",
    "        print(f\"Even number: {num}\")\n",
    "    else:\n",
    "        print(f\"Odd number: {num}\")\n",
    "\n",
    "for i in range(3):\n",
    "    print(f\"Hello, world {i}\")\n",
    "\n",
    "# Lists, Tupples and For loop\n",
    "my_list_tup = [(1, 2), (3, 4), (5, 6), (7, 8)]\n",
    "\n",
    "print(\"length:\", len(my_list_tup))\n",
    "\n",
    "for a, b in my_list_tup:\n",
    "    print(f\"this is value of a: {a}\")\n",
    "    print(f\"this is value of b: {b}\")\n",
    "    print(\"==\" * 3)\n",
    "\n",
    "# Dictionaries and For loop\n",
    "pizzas = {\"cheese\": 9, \"pepperoni\": 10, \"vegetable\": 11, \"buffalo chicken\": 12}\n",
    "\n",
    "# To only get the key in the dict\n",
    "for pie in pizzas:\n",
    "    print(pie)\n",
    "print(\"==\" * 3)\n",
    "\n",
    "# To only get the value in the dict\n",
    "for price in pizzas.values():\n",
    "    print(\"$\" + str(price))\n",
    "print(\"==\" * 3)\n",
    "\n",
    "for pie, price in pizzas.items():\n",
    "    print(pie + \" $\" + str(price))\n",
    "print(\"==\" * 3)\n",
    "\n",
    "for pie, price in pizzas.items():\n",
    "    print(f\"A whole {pie} pizza costs ${price}\")\n",
    "    print(\"--\" * 3)\n",
    "\n",
    "# pass function\n",
    "x = [1, 2, 3]\n",
    "for item in x:\n",
    "    pass  # Do nothing with this for loop\n",
    "\n",
    "# continue function\n",
    "name = \"Parker\"\n",
    "for letter in name:\n",
    "    if letter == \"r\":\n",
    "        continue  # It will not include letter r\n",
    "    print(\"letter\")\n",
    "\n",
    "i = [\"one\", \"two\", \"three\", \"four\"]\n",
    "for num in i:\n",
    "    if num == \"three\":\n",
    "        break  # It will stop when num is three\n",
    "    print(num)"
   ]
  },
  {
   "cell_type": "markdown",
   "metadata": {},
   "source": [
    "## Methods and Functions\n",
    "### Methods\n",
    "Methods are what has been built in the Python. Each Python versions will have different number of methods. The later versions will have cooler methods than the older ones. If you don't want to build a function which has been prepared by Python, Methods are what you must think of.\n",
    "### Functions\n",
    "If you want to have a clean repeatable code, Functions are what you must think of. Functions allow us to create a blocks of code that can executed many times without rewrite the same code again. The best way to learn is taking practice and practice.\n",
    "\n",
    "#### How to create a Function?\n",
    "Format to create a Function: **def** keyword, correct indentation, and proper structure.\n",
    "\n",
    "For the name of a Function, Python uses snake_casing in lowercase with underscores between words. You can use Docstring (aka. multi-line string) to describe a function. Python uses the **return** keyword to send back the result of the Function. It allows you to assign the output of the function to a new variable."
   ]
  },
  {
   "cell_type": "code",
   "execution_count": null,
   "metadata": {},
   "outputs": [],
   "source": [
    "# Example of a function\n",
    "def name_of_function(arguments/parameters):\n",
    "\t\"\"\"\n",
    "\tDocstring explain function.\n",
    "\t\"\"\"\n",
    "\tprint(\"Hello\")\n",
    "\treturn variables\n",
    "\n",
    "if __name__ == \"__main__\":\n",
    "\tmain() # This is a function called main()"
   ]
  },
  {
   "cell_type": "code",
   "execution_count": 29,
   "metadata": {},
   "outputs": [
    {
     "name": "stdout",
     "output_type": "stream",
     "text": [
      "4\n"
     ]
    }
   ],
   "source": [
    "# Define function called square()\n",
    "def square(x):\n",
    "\treturn x * x\n",
    "\n",
    "print(square(2))\n",
    "\n",
    "# Define function called say_hello() where argument is name\n",
    "def say_hello(name=\"Default\"): # Default is the value will display if the user not enter any argument\n",
    "\tprint(f\"Hello {name}\")"
   ]
  },
  {
   "cell_type": "markdown",
   "metadata": {},
   "source": [
    "## Objects"
   ]
  },
  {
   "cell_type": "code",
   "execution_count": 30,
   "metadata": {},
   "outputs": [
    {
     "name": "stdout",
     "output_type": "stream",
     "text": [
      "Jane - 10\n",
      "Jane - 11\n"
     ]
    }
   ],
   "source": [
    "class Student:\n",
    "\n",
    "    def __init__(self, name, id):\n",
    "        self.name = name\n",
    "        self.id = id\n",
    "\n",
    "    def changeID(self, id):\n",
    "        self.id = id\n",
    "\n",
    "    def print(self):\n",
    "        print(\"{} - {}\".format(self.name, self.id))\n",
    "\n",
    "\n",
    "jane = Student(\"Jane\", 10)\n",
    "jane.print()\n",
    "jane.changeID(11)\n",
    "jane.print()"
   ]
  },
  {
   "cell_type": "markdown",
   "metadata": {},
   "source": [
    "## SYS"
   ]
  },
  {
   "cell_type": "code",
   "execution_count": null,
   "metadata": {},
   "outputs": [],
   "source": [
    "from sys import argv\n",
    "\n",
    "if len(argv) == 2:\n",
    "\tprint(f\"hello, {argv[1]}\")\n",
    "else:\n",
    "\tprint(\"hello, world\")\n",
    "\n",
    "for arg in argv[1:]:\n",
    "\tprint(arg)\n",
    "\n",
    "from sys\n",
    "\n",
    "if len(sys.argv) != 2:\n",
    "\tprint(\"Missing command-line argument\")\n",
    "\tsys.exit(1)\n",
    "\n",
    "print(f\"hello, {sys.argv[1]}\")\n",
    "sys.exit(0)"
   ]
  },
  {
   "cell_type": "markdown",
   "metadata": {},
   "source": [
    "## I/O with Basic Files"
   ]
  },
  {
   "cell_type": "code",
   "execution_count": null,
   "metadata": {},
   "outputs": [],
   "source": [
    "myfile = open(\n",
    "    \"myfile.txt\"\n",
    ")  # open() function is used to open the file in the directory you want\n",
    "myfile.read()  # read() function is used to read the content of the file\n",
    "myfile.seek(\n",
    "    0\n",
    ")  # seek() function is used to reset the cursor to the beginning of the file, so you can read the file again\n",
    "myfile.readlines()  # readlines() function is used to read the content of the file, and make a List of each line as an index\n",
    "myfile.close()  # close() function is used to close the file if you do not use it any more\n",
    "\n",
    "# Other way to open and read the file without remember to close it\n",
    "with open(\"myfile.txt\") as my_new_file:\n",
    "    contents = my_new_file.read()\n",
    "\n",
    "\"\"\"\n",
    "Reading, Writing, Appending Modes\n",
    "mode='r' is read only\n",
    "mode='w' is write only (will overwrite files or create new)\n",
    "mode='a' is append only (will add on to files)\n",
    "mode='r+' is reading and writing\n",
    "mode='w+' is writing and reading (Overwrites existing files or creates a new file)\n",
    "\"\"\"\n",
    "\n",
    "# Assume the new_file.txt has been created\n",
    "with open(\"new_file.txt\", mode=\"a\") as f:\n",
    "    f.write(\"This is new line\")\n",
    "\n",
    "with open(\"new_file.txt\", mode=\"r\") as f:\n",
    "    print(f.read())\n",
    "\n",
    "# Assume the new_file_new.txt does not exist\n",
    "with open(\"new_file_new.txt\", mode=\"w\") as f:\n",
    "    f.write(\"This is totally new file\")\n",
    "\n",
    "with open(\"new_file_new.txt\", mode=\"r\") as f:\n",
    "    print(f.read())"
   ]
  },
  {
   "cell_type": "markdown",
   "metadata": {},
   "source": [
    "## Examples\n",
    "### Simple Face Detection"
   ]
  },
  {
   "cell_type": "code",
   "execution_count": null,
   "metadata": {},
   "outputs": [],
   "source": [
    "from PIL import Image\n",
    "import face_recognition\n",
    "\n",
    "image = face_recognition.load_image_file(\"office.jpg\")\n",
    "\n",
    "face_locations = face_recognition.face_locations(image)\n",
    "\n",
    "for face_location in face_locations\n",
    "\n",
    "\ttop, right, bottom, left = face_location\n",
    "\n",
    "\tface_image = image[top:bottom, left:right]\n",
    "\tpil_image = Image.fromarray(face_image)\n",
    "\tpil_image.show()"
   ]
  },
  {
   "cell_type": "markdown",
   "metadata": {},
   "source": [
    "### Calculations"
   ]
  },
  {
   "cell_type": "code",
   "execution_count": null,
   "metadata": {},
   "outputs": [],
   "source": [
    "scores = [72, 73, 33]\n",
    "\n",
    "average = sum(scores) / len(scores)\n",
    "print(f\"Average: {average}\")"
   ]
  },
  {
   "cell_type": "code",
   "execution_count": null,
   "metadata": {},
   "outputs": [],
   "source": [
    "from cs50 import get_int\n",
    "\n",
    "scores = []\n",
    "for i in range(3):\n",
    "    score = get_int(\"Score: \")\n",
    "    scores.append(score)  # scores += [score]\n",
    "\n",
    "average = sum(scores) / len(scores)\n",
    "print(f\"Average: {average}\")"
   ]
  },
  {
   "cell_type": "markdown",
   "metadata": {},
   "source": [
    "### Search"
   ]
  },
  {
   "cell_type": "code",
   "execution_count": null,
   "metadata": {},
   "outputs": [],
   "source": [
    "# To search name\n",
    "import sys\n",
    "\n",
    "names = [\"James\", \"Peter\", \"Linda\", \"Tom\", \"Sam\", \"Tina\", \"Coco\"]\n",
    "\n",
    "name = input(\"Name: \")\n",
    "\n",
    "# for n in names:\n",
    "# \tif name == n:\n",
    "if name in names:\n",
    "    print(\"Found\")\n",
    "    sys.exit(0)\n",
    "\n",
    "print(\"Not found\")\n",
    "sys.exit(1)\n",
    "\n",
    "# To search a person and his/her phone number\n",
    "people = {\"Phat\": \"123456789\", \"Thai\": \"234567890\"}\n",
    "\n",
    "name = input(\"Name: \")\n",
    "if name in people:\n",
    "    print(f\"Number: {people[name]}\")"
   ]
  },
  {
   "cell_type": "markdown",
   "metadata": {},
   "source": [
    "### Compare"
   ]
  },
  {
   "cell_type": "code",
   "execution_count": 34,
   "metadata": {},
   "outputs": [
    {
     "name": "stdout",
     "output_type": "stream",
     "text": [
      "Different\n"
     ]
    }
   ],
   "source": [
    "s = input(\"s: \")\n",
    "t = input(\"t: \")\n",
    "\n",
    "if s == t:\n",
    "    print(\"Same\")\n",
    "else:\n",
    "    print(\"Different\")"
   ]
  },
  {
   "cell_type": "markdown",
   "metadata": {},
   "source": [
    "### Swap"
   ]
  },
  {
   "cell_type": "code",
   "execution_count": 33,
   "metadata": {},
   "outputs": [
    {
     "name": "stdout",
     "output_type": "stream",
     "text": [
      "x is 1, y is 2\n",
      "x is 2, y is 1\n"
     ]
    }
   ],
   "source": [
    "x = 1\n",
    "y = 2\n",
    "\n",
    "print(f\"x is {x}, y is {y}\")\n",
    "x, y = y, x\n",
    "print(f\"x is {x}, y is {y}\")"
   ]
  },
  {
   "cell_type": "markdown",
   "metadata": {},
   "source": [
    "### Phonebook File Open"
   ]
  },
  {
   "cell_type": "code",
   "execution_count": null,
   "metadata": {},
   "outputs": [],
   "source": [
    "import csv\n",
    "\n",
    "# Open file and close file way\n",
    "file = open(\"phonebook.csv\", \"a\")\n",
    "\n",
    "name = input(\"Name: \")\n",
    "number = input(\"Number: \")\n",
    "\n",
    "writer = csv.writer(file)\n",
    "writer.writerow([name, number])\n",
    "\n",
    "file.close()\n",
    "\n",
    "# With open file way\n",
    "with open(\"phonebook.csv\", \"a\") as file:\n",
    "\n",
    "    name = input(\"Name: \")\n",
    "    number = input(\"Number: \")\n",
    "\n",
    "    writer = csv.writer(file)\n",
    "    writer.writerow([name, number])"
   ]
  },
  {
   "cell_type": "markdown",
   "metadata": {},
   "source": [
    "### Text to speech"
   ]
  },
  {
   "cell_type": "code",
   "execution_count": null,
   "metadata": {},
   "outputs": [],
   "source": [
    "import pyttsx3\n",
    "\n",
    "engine = pyttsx3.init()\n",
    "name = input(\"Name: \")\n",
    "engine.say(f\"hello, {name}\")\n",
    "engine.runAndWait()"
   ]
  }
 ],
 "metadata": {
  "kernelspec": {
   "display_name": "Python 3",
   "language": "python",
   "name": "python3"
  },
  "language_info": {
   "codemirror_mode": {
    "name": "ipython",
    "version": 3
   },
   "file_extension": ".py",
   "mimetype": "text/x-python",
   "name": "python",
   "nbconvert_exporter": "python",
   "pygments_lexer": "ipython3",
   "version": "3.12.2"
  }
 },
 "nbformat": 4,
 "nbformat_minor": 2
}
